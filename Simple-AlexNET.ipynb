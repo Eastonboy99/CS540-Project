{
 "metadata": {
  "language_info": {
   "codemirror_mode": {
    "name": "ipython",
    "version": 3
   },
   "file_extension": ".py",
   "mimetype": "text/x-python",
   "name": "python",
   "nbconvert_exporter": "python",
   "pygments_lexer": "ipython3",
   "version": "3.8.8"
  },
  "orig_nbformat": 2,
  "kernelspec": {
   "name": "python3",
   "display_name": "Python 3.8.8 64-bit (windows store)",
   "metadata": {
    "interpreter": {
     "hash": "7831c92f7874e068193c127183976751b071e9d9926ab3fb2f4632953da558c0"
    }
   }
  }
 },
 "nbformat": 4,
 "nbformat_minor": 2,
 "cells": [
  {
   "cell_type": "code",
   "execution_count": 1,
   "metadata": {},
   "outputs": [
    {
     "output_type": "error",
     "ename": "ModuleNotFoundError",
     "evalue": "No module named 'pandas'",
     "traceback": [
      "\u001b[1;31m---------------------------------------------------------------------------\u001b[0m",
      "\u001b[1;31mModuleNotFoundError\u001b[0m                       Traceback (most recent call last)",
      "\u001b[1;32m<ipython-input-1-cb7bac43d92f>\u001b[0m in \u001b[0;36m<module>\u001b[1;34m\u001b[0m\n\u001b[0;32m      1\u001b[0m \u001b[1;32mimport\u001b[0m \u001b[0mnumpy\u001b[0m \u001b[1;32mas\u001b[0m \u001b[0mnp\u001b[0m\u001b[1;33m\u001b[0m\u001b[1;33m\u001b[0m\u001b[0m\n\u001b[1;32m----> 2\u001b[1;33m \u001b[1;32mimport\u001b[0m \u001b[0mpandas\u001b[0m \u001b[1;32mas\u001b[0m \u001b[0mpd\u001b[0m\u001b[1;33m\u001b[0m\u001b[1;33m\u001b[0m\u001b[0m\n\u001b[0m\u001b[0;32m      3\u001b[0m \u001b[1;32mimport\u001b[0m \u001b[0mpickle\u001b[0m\u001b[1;33m\u001b[0m\u001b[1;33m\u001b[0m\u001b[0m\n\u001b[0;32m      4\u001b[0m \u001b[1;32mimport\u001b[0m \u001b[0mmatplotlib\u001b[0m\u001b[1;33m.\u001b[0m\u001b[0mpyplot\u001b[0m \u001b[1;32mas\u001b[0m \u001b[0mplt\u001b[0m\u001b[1;33m\u001b[0m\u001b[1;33m\u001b[0m\u001b[0m\n\u001b[0;32m      5\u001b[0m \u001b[1;32mfrom\u001b[0m \u001b[0mmath\u001b[0m \u001b[1;32mimport\u001b[0m \u001b[0msqrt\u001b[0m\u001b[1;33m,\u001b[0m \u001b[0mceil\u001b[0m\u001b[1;33m\u001b[0m\u001b[1;33m\u001b[0m\u001b[0m\n",
      "\u001b[1;31mModuleNotFoundError\u001b[0m: No module named 'pandas'"
     ]
    }
   ],
   "source": [
    "import numpy as np\n",
    "import pandas as pd\n",
    "import pickle\n",
    "import matplotlib.pyplot as plt\n",
    "from math import sqrt, ceil\n",
    "from timeit import default_timer as timer\n",
    "\n",
    "import tensorflow as tf\n",
    "from tensorflow.keras.utils import to_categorical\n",
    "from tensorflow.keras.models import Sequential\n",
    "from tensorflow.keras.layers import Dense, Dropout, Flatten, Conv2D, MaxPool2D, AvgPool2D, BatchNormalization, Reshape\n",
    "from tensorflow.keras.preprocessing.image import ImageDataGenerator\n",
    "from tensorflow.keras.callbacks import LearningRateScheduler\n",
    "\n",
    "%matplotlib inline"
   ]
  },
  {
   "cell_type": "code",
   "execution_count": null,
   "metadata": {},
   "outputs": [],
   "source": [
    "# Open data file\n",
    "with open(\"./dataset/data2.pickle\", 'rb') as f:\n",
    "    data = pickle.load(f, encoding=\"latin1\")\n",
    "\n",
    "# Prepare for keras\n",
    "data['y_train'] = to_categorical(data['y_train'], num_classes=43)\n",
    "data['y_validation'] = to_categorical(data['y_validation'], num_classes=43)\n",
    "\n",
    "# Making channels come at the end\n",
    "data['x_train'] = data['x_train'].transpose(0, 2, 3, 1)\n",
    "data['x_validation'] = data['x_validation'].transpose(0, 2, 3, 1)\n",
    "data['x_test'] = data['x_test'].transpose(0, 2, 3, 1)\n",
    "\n",
    "# Showing loaded data from file\n",
    "for i, j in data.items():\n",
    "    if i == 'labels':\n",
    "        print(i + ':', len(j))\n",
    "    else: \n",
    "        print(i + ':', j.shape)"
   ]
  },
  {
   "cell_type": "code",
   "execution_count": null,
   "metadata": {},
   "outputs": [],
   "source": [
    "model = Sequential()\n",
    "model.add(Conv2D(32, kernel_size=5, padding='same', activation='relu', input_shape=(32, 32, 3)))\n",
    "BatchNormalization(),\n",
    "model.add(MaxPool2D(pool_size=2))\n",
    "model.add(Conv2D(256, kernel_size=5, padding='same', activation='relu', input_shape=(32, 32, 3)))\n",
    "BatchNormalization(),\n",
    "model.add(MaxPool2D(pool_size=2))\n",
    "model.add(Flatten())\n",
    "model.add(Dense(500, activation='relu'))\n",
    "model.add(Dropout(0.5))\n",
    "model.add(Dense(500, activation='relu'))\n",
    "model.add(Dropout(0.5))\n",
    "model.add(Dense(43, activation='softmax'))\n",
    "model.compile(optimizer='adam', loss='categorical_crossentropy', metrics=['accuracy'])\n",
    "\n",
    "annealer = LearningRateScheduler(lambda x: 1e-3 * 0.95 ** (x + epochs))\n",
    "epochs = 10\n",
    "\n",
    "\n",
    "h= model.fit(data['x_train'], data['y_train'],\n",
    "                    batch_size=500, epochs = epochs,\n",
    "                    validation_data = (data['x_validation'], data['y_validation']),\n",
    "                    callbacks=[annealer], verbose=1)"
   ]
  },
  {
   "cell_type": "code",
   "execution_count": null,
   "metadata": {},
   "outputs": [],
   "source": [
    "plt.rcParams['figure.figsize'] = (15.0, 15.0) # Setting default size of plots\n",
    "plt.rcParams['image.interpolation'] = 'nearest'\n",
    "plt.rcParams['font.family'] = 'Times New Roman'\n",
    "\n",
    "# Plotting history of training accuracy\n",
    "fig = plt.figure()\n",
    "plt.plot(h.history['accuracy'], '-o', linewidth=3.0)\n",
    "plt.plot(h.history['val_accuracy'], '-o', linewidth=3.0)\n",
    "plt.legend(['train', 'validation'], loc='upper left', fontsize='xx-large')\n",
    "plt.xlabel('Epoch', fontsize=20, fontname='Times New Roman')\n",
    "plt.ylabel('Accuracy', fontsize=20, fontname='Times New Roman')\n",
    "plt.yscale('linear')  # {\"linear\", \"log\", \"symlog\", \"logit\", ...}\n",
    "plt.ylim(0.90, 1.0)\n",
    "plt.xlim(0.5, 10.3) \n",
    "plt.title('Training and Testing Accuracy', fontsize=22)\n",
    "\n",
    "# plt.subplot(2, 1, 2)\n",
    "# # plt.gca().set_title('Validation accuracy')\n",
    "\n",
    "# plt.plot(h.history['val_accuracy'], '-o', linewidth=3.0)\n",
    "# plt.xlabel('Epoch', fontsize=20, fontname='Times New Roman')\n",
    "# plt.ylabel('Validation Accuracy', fontsize=20, fontname='Times New Roman')\n",
    "# plt.yscale('linear')  # {\"linear\", \"log\", \"symlog\", \"logit\", ...}\n",
    "# plt.ylim(0.75, 0.999)\n",
    "# plt.xlim(0, 10.3)\n",
    "\n",
    "# Showing the plot\n",
    "plt.show()\n",
    "\n",
    "print('data2 filter {0:d} training accuracy = {1:.5f}'.\\\n",
    "      format(5, np.max(h.history['accuracy'])))\n",
    "\n",
    "print()\n",
    "\n",
    "print('data2 filter {0:d} validation accuracy = {1:.5f}'.\\\n",
    "      format(5, np.max(h.history['val_accuracy'])))"
   ]
  },
  {
   "cell_type": "code",
   "execution_count": null,
   "metadata": {},
   "outputs": [],
   "source": [
    "temp = model.predict(data['x_test'])\n",
    "temp = np.argmax(temp, axis=1)\n",
    "\n",
    "# We compare predicted class with correct class for all input images\n",
    "# And calculating mean value among all values of following numpy array\n",
    "# By saying 'testing_accuracy == data['y_test']' we create numpy array with True and False values\n",
    "# 'np.mean' function will return average of the array elements\n",
    "# The average is taken over the flattened array by default\n",
    "temp = np.mean(temp == data['y_test'])\n",
    "\n",
    "print('data2 filter {0:d} testing accuracy = {1:.5f}'.format(5, temp))"
   ]
  }
 ]
}